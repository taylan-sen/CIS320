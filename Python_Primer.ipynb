{
  "nbformat": 4,
  "nbformat_minor": 0,
  "metadata": {
    "colab": {
      "name": "Python Primer.ipynb",
      "provenance": [],
      "collapsed_sections": [],
      "authorship_tag": "ABX9TyMHP+wbtP1K3wmQHnDn206d",
      "include_colab_link": true
    },
    "kernelspec": {
      "name": "python3",
      "display_name": "Python 3"
    },
    "language_info": {
      "name": "python"
    }
  },
  "cells": [
    {
      "cell_type": "markdown",
      "metadata": {
        "id": "view-in-github",
        "colab_type": "text"
      },
      "source": [
        "<a href=\"https://colab.research.google.com/github/taylan-sen/CIS320/blob/main/Python_Primer.ipynb\" target=\"_parent\"><img src=\"https://colab.research.google.com/assets/colab-badge.svg\" alt=\"Open In Colab\"/></a>"
      ]
    },
    {
      "cell_type": "markdown",
      "source": [
        "# This notebook is an introduction to the core python language\n",
        "\n",
        "Key elements of all programming languages are:\n",
        "* IO\n",
        "  * console IO\n",
        "  * file IO\n",
        "  \n",
        "* Structures:\n",
        "  * variables\n",
        "  * if statements\n",
        "  * loops\n",
        "  * functions\n",
        "\n",
        "* data structures\n",
        "  * lists (arrays)\n",
        "  * dict (hashtable)\n"
      ],
      "metadata": {
        "id": "c591cgUhYKi2"
      }
    },
    {
      "cell_type": "code",
      "execution_count": null,
      "metadata": {
        "colab": {
          "base_uri": "https://localhost:8080/"
        },
        "id": "PqGCLapPYJwN",
        "outputId": "f5999252-ce76-43f3-80ec-637f4b60779b"
      },
      "outputs": [
        {
          "output_type": "stream",
          "name": "stdout",
          "text": [
            "Hello World!\n",
            "a: 6\n",
            "b: 5\n"
          ]
        }
      ],
      "source": [
        "#Console IO\n",
        "print('Hello World!')\n"
      ]
    },
    {
      "cell_type": "code",
      "source": [
        ""
      ],
      "metadata": {
        "id": "i4fCiZByaDK2"
      },
      "execution_count": null,
      "outputs": []
    },
    {
      "cell_type": "code",
      "source": [
        "# Variables\n",
        "a = 5\n",
        "b = a\n",
        "a = 6\n",
        "print('a:', a)\n",
        "print('b:',b)"
      ],
      "metadata": {
        "id": "Ky6XJxfyZ86l"
      },
      "execution_count": null,
      "outputs": []
    },
    {
      "cell_type": "code",
      "source": [
        "a = 6 + 7*2\n",
        "print('a:', a)\n",
        "\n",
        "b = (6+7)*2\n",
        "print('b:', b)\n",
        "\n",
        "c = 2**3\n",
        "print(b)"
      ],
      "metadata": {
        "id": "G89DVo0OZGwi"
      },
      "execution_count": null,
      "outputs": []
    },
    {
      "cell_type": "code",
      "source": [
        "a = input('Who is NU\\'s mascot? ')\n",
        "print('You said:', a)"
      ],
      "metadata": {
        "colab": {
          "base_uri": "https://localhost:8080/"
        },
        "id": "4XrwarlkaSLH",
        "outputId": "463da63d-8b73-44f5-bae9-7ccba3479946"
      },
      "execution_count": null,
      "outputs": [
        {
          "output_type": "stream",
          "name": "stdout",
          "text": [
            "Who is NU's mascot?Monte!\n",
            "Monte!\n"
          ]
        }
      ]
    }
  ]
}