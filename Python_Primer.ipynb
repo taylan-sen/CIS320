{
  "nbformat": 4,
  "nbformat_minor": 0,
  "metadata": {
    "colab": {
      "name": "Python Primer.ipynb",
      "provenance": [],
      "collapsed_sections": [],
      "authorship_tag": "ABX9TyPWmaRto0HvkK9ctPzdB6eT",
      "include_colab_link": true
    },
    "kernelspec": {
      "name": "python3",
      "display_name": "Python 3"
    },
    "language_info": {
      "name": "python"
    }
  },
  "cells": [
    {
      "cell_type": "markdown",
      "metadata": {
        "id": "view-in-github",
        "colab_type": "text"
      },
      "source": [
        "<a href=\"https://colab.research.google.com/github/taylan-sen/CIS320/blob/main/Python_Primer.ipynb\" target=\"_parent\"><img src=\"https://colab.research.google.com/assets/colab-badge.svg\" alt=\"Open In Colab\"/></a>"
      ]
    },
    {
      "cell_type": "markdown",
      "source": [
        "Open this in colab rather than viewing on github.\n",
        "\n",
        "**Your brain after completing this Python for AI Primer:**  \n",
        "<img src=\"http://blogs.pjstar.com/eye/files/2012/06/awards003.jpg\" width=\"250\"/>\n",
        "\n",
        "Getting Started in Colab Notebooks\n",
        "==================================\n",
        "\n",
        "You are currently reading a *notebook* (i.e this notebook is a file: \"Python_Primer.ipynb\"; and more specifically, this notebook is a _jupyter_ file).  Notebooks are perhaps most special in that they can contain both formatted text (generally for documentation) and python code. As an added bonus, the code output is saved to the notebook as well. Notebooks have exploded in popularity recently, github has added support for properly viewing their formatted text and figures, and Google is offering __Google Colab__, a notebook server in which powerful computing is offered to run your notebooks for free*. \n",
        "\n",
        "In summary, notebooks and Google colab are a very effective way to ... collaborate.  \n",
        "<img src=\"https://static.wikia.nocookie.net/inanimateinsanity/images/0/0c/Cheesy_21.png\" width=\"120\">\n",
        "\n",
        "Notebooks are saved by default to your google drive (under a folder called Colab Notebooks.) There is a convenient way to save (commit) directly to your GitHub repository too (File->Save a copy to GitHub). \n",
        "\n"
      ],
      "metadata": {
        "id": "YSxo2oqljZHq"
      }
    },
    {
      "cell_type": "markdown",
      "source": [
        "Markdown basics\n",
        "----------------\n",
        "The idea of markdown is that it is a markup languge, that is not HyperTextMarkupLanguage (HTML). It is meant to be more readable (and easier) than HTML, yet provide the ability to format nicely, unlike pure text.\n",
        "\n",
        "To create a section heading, follow the heading text with a line of several (======) for a heading, or a line of dashes (-----) for a subheading. Some other formatting tricks:\n",
        "\n",
        "(double click on this cell in google colab to see the \"source\")\n",
        "\n",
        "**bold**: enclose text in two asteriks on each side  \n",
        "*italic*: enclose the text in one asterik on each side  \n",
        "\n",
        "For a bullet outline format, start lines with appropriately spaced asteriks. For example (double click on this cell in google colab to see the \"source\"):\n",
        "\n",
        "*Key elements of all programming languages are:*\n",
        "* Input/Output (IO)\n",
        "  * console IO\n",
        "  * file IO\n",
        "  \n",
        "* Programming Structures:\n",
        "  * variables\n",
        "  * if statements\n",
        "  * loops\n",
        "  * functions\n",
        "\n",
        "* data structures\n",
        "  * lists (arrays)\n",
        "  * dict (hashtable)"
      ],
      "metadata": {
        "id": "j3BD3-rlkXm_"
      }
    },
    {
      "cell_type": "markdown",
      "source": [
        "## Introduction to the core python language\n",
        "\n",
        "Key elements of most programming languages are:\n",
        "* IO\n",
        "  * console IO\n",
        "  * file IO\n",
        "  \n",
        "* Programming Structures:\n",
        "  * variables\n",
        "  * if statements\n",
        "  * loops\n",
        "  * functions\n",
        "\n",
        "* data structures\n",
        "  * lists (arrays)\n",
        "  * dict (hashtable)"
      ],
      "metadata": {
        "id": "c591cgUhYKi2"
      }
    },
    {
      "cell_type": "code",
      "execution_count": null,
      "metadata": {
        "colab": {
          "base_uri": "https://localhost:8080/"
        },
        "id": "PqGCLapPYJwN",
        "outputId": "8814363b-8ccd-4227-859b-1a9b416ace76"
      },
      "outputs": [
        {
          "output_type": "stream",
          "name": "stdout",
          "text": [
            "Hello World!\n"
          ]
        }
      ],
      "source": [
        "# Console Output\n",
        "# Note that a leading hash creates a python comment (i.e. text that is ignored by python, but used for in code documentation.)\n",
        "print('Hello World!')\n"
      ]
    },
    {
      "cell_type": "code",
      "source": [
        "# Console Input\n",
        "# when run, this will prompt the user to enter text from the console\n",
        "print('You said:', input('What do you want to say? '))"
      ],
      "metadata": {
        "id": "i4fCiZByaDK2",
        "colab": {
          "base_uri": "https://localhost:8080/"
        },
        "outputId": "58d12cb2-d9d9-4620-d454-777c5018ff2e"
      },
      "execution_count": null,
      "outputs": [
        {
          "output_type": "stream",
          "name": "stdout",
          "text": [
            "What do you want to say? Hello notebook!\n",
            "You said: Hello notebook!\n"
          ]
        }
      ]
    },
    {
      "cell_type": "code",
      "source": [
        "# Variables\n",
        "a = 5\n",
        "b = a\n",
        "a = 6\n",
        "print('a:', a)\n",
        "print('b:', b)"
      ],
      "metadata": {
        "id": "Ky6XJxfyZ86l",
        "colab": {
          "base_uri": "https://localhost:8080/"
        },
        "outputId": "f565c430-407c-4be4-8635-df0caba0b2d8"
      },
      "execution_count": 2,
      "outputs": [
        {
          "output_type": "stream",
          "name": "stdout",
          "text": [
            "a: 6\n",
            "b: 5\n"
          ]
        }
      ]
    },
    {
      "cell_type": "code",
      "source": [
        "# Basic math\n",
        "a = 6 + 7*2\n",
        "print('a:', a)\n",
        "\n",
        "b = (6+7)*2\n",
        "print('b:', b)\n",
        "\n",
        "c = 2**3\n",
        "print(b)"
      ],
      "metadata": {
        "id": "G89DVo0OZGwi",
        "colab": {
          "base_uri": "https://localhost:8080/"
        },
        "outputId": "a3d442c5-cad3-48e1-e625-fae025fa04d9"
      },
      "execution_count": null,
      "outputs": [
        {
          "output_type": "stream",
          "name": "stdout",
          "text": [
            "a: 20\n",
            "b: 26\n",
            "26\n"
          ]
        }
      ]
    },
    {
      "cell_type": "code",
      "source": [
        "# If statements\n",
        "answer = input(\"Who is NU's mascot? \" )\n",
        "# not the leading spaces!!! Alignment is key in python!\n",
        "if answer == 'Monte':\n",
        "  print('Correct!')\n",
        "else:\n",
        "  print('Sorry, the right answer is: Monte')"
      ],
      "metadata": {
        "colab": {
          "base_uri": "https://localhost:8080/"
        },
        "id": "4XrwarlkaSLH",
        "outputId": "ad6e3358-a5e2-4747-c156-d6c945561340"
      },
      "execution_count": null,
      "outputs": [
        {
          "output_type": "stream",
          "name": "stdout",
          "text": [
            "Who is NU's mascot? Monty\n",
            "Sorry, the right answer is: Monte\n"
          ]
        }
      ]
    },
    {
      "cell_type": "code",
      "source": [
        "# while loop\n",
        "times_printed = 0\n",
        "while times_printed != 10:\n",
        "  print(times_printed, '- I LOOOOOOVE BITCONNECT!')\n",
        "  times_printed = times_printed + 1"
      ],
      "metadata": {
        "colab": {
          "base_uri": "https://localhost:8080/"
        },
        "id": "WdAvQ-Fo6dPS",
        "outputId": "21fccd5b-571a-4d8f-e601-be057852f346"
      },
      "execution_count": null,
      "outputs": [
        {
          "output_type": "stream",
          "name": "stdout",
          "text": [
            "0 - I LOOOOOOVE BITCONNECT!\n",
            "1 - I LOOOOOOVE BITCONNECT!\n",
            "2 - I LOOOOOOVE BITCONNECT!\n",
            "3 - I LOOOOOOVE BITCONNECT!\n",
            "4 - I LOOOOOOVE BITCONNECT!\n",
            "5 - I LOOOOOOVE BITCONNECT!\n",
            "6 - I LOOOOOOVE BITCONNECT!\n",
            "7 - I LOOOOOOVE BITCONNECT!\n",
            "8 - I LOOOOOOVE BITCONNECT!\n",
            "9 - I LOOOOOOVE BITCONNECT!\n"
          ]
        }
      ]
    },
    {
      "cell_type": "markdown",
      "source": [
        "<img src=\"https://fintechnews.sg/wp-content/uploads/2019/03/bitconnect-ico-scam-meme.jpg\" width=\"250\">"
      ],
      "metadata": {
        "id": "a7tI48MRnIJo"
      }
    },
    {
      "cell_type": "code",
      "source": [
        "# for loop\n",
        "for i in range(10):\n",
        "  print(i, '- I LOOOOOOVE BITCONNECT!')\n"
      ],
      "metadata": {
        "colab": {
          "base_uri": "https://localhost:8080/"
        },
        "id": "qE_eVGuQ67Mx",
        "outputId": "2a9e1f5e-c208-44e8-e7f7-3f615499e767"
      },
      "execution_count": null,
      "outputs": [
        {
          "output_type": "stream",
          "name": "stdout",
          "text": [
            "0 - I LOOOOOOVE BITCONNECT!\n",
            "1 - I LOOOOOOVE BITCONNECT!\n",
            "2 - I LOOOOOOVE BITCONNECT!\n",
            "3 - I LOOOOOOVE BITCONNECT!\n",
            "4 - I LOOOOOOVE BITCONNECT!\n",
            "5 - I LOOOOOOVE BITCONNECT!\n",
            "6 - I LOOOOOOVE BITCONNECT!\n",
            "7 - I LOOOOOOVE BITCONNECT!\n",
            "8 - I LOOOOOOVE BITCONNECT!\n",
            "9 - I LOOOOOOVE BITCONNECT!\n"
          ]
        }
      ]
    },
    {
      "cell_type": "code",
      "source": [
        "# for loop with a list\n",
        "for i in ['chicken','beef', 'tofu']:\n",
        "  print('I like to eat', i)\n"
      ],
      "metadata": {
        "colab": {
          "base_uri": "https://localhost:8080/"
        },
        "id": "ABabKHrz7F8t",
        "outputId": "00051a61-163f-41d6-a7fd-926737e2a088"
      },
      "execution_count": null,
      "outputs": [
        {
          "output_type": "stream",
          "name": "stdout",
          "text": [
            "I like to eat chicken\n",
            "I like to eat beef\n",
            "I like to eat tofu\n"
          ]
        }
      ]
    },
    {
      "cell_type": "code",
      "source": [
        "# functions\n",
        "# the first part is the function \"definition\", followed by function usage\n",
        "def print_many_times(how_many_times, say_this):\n",
        "  for i in range(how_many_times):\n",
        "    print(say_this)\n",
        "\n",
        "print_many_times(4, 'CIS490 is as good as chocolate!')\n",
        "print_many_times(3, 'I saw a one-eyed, one-horned, purple people eater!')"
      ],
      "metadata": {
        "colab": {
          "base_uri": "https://localhost:8080/"
        },
        "id": "EXX6eqDz_kLc",
        "outputId": "99aba3e0-3bc8-4865-ef21-1e1d28fab149"
      },
      "execution_count": null,
      "outputs": [
        {
          "output_type": "stream",
          "name": "stdout",
          "text": [
            "CIS490 is as good as chocolate!\n",
            "CIS490 is as good as chocolate!\n",
            "CIS490 is as good as chocolate!\n",
            "CIS490 is as good as chocolate!\n",
            "I saw a one-eyed, one-horned, purple people eater!\n",
            "I saw a one-eyed, one-horned, purple people eater!\n",
            "I saw a one-eyed, one-horned, purple people eater!\n"
          ]
        }
      ]
    },
    {
      "cell_type": "code",
      "source": [
        "# lists\n",
        "primes = [2,3,5,7,11,13]\n",
        "print('primes[3]', primes[3])\n",
        "print('primes[0]', primes[0])\n",
        "print('primes[-1]', primes[-1])\n"
      ],
      "metadata": {
        "colab": {
          "base_uri": "https://localhost:8080/"
        },
        "id": "ZxfbNIUrAbjX",
        "outputId": "a2f6545e-3b42-4df8-82a6-92a4a76004f2"
      },
      "execution_count": null,
      "outputs": [
        {
          "output_type": "stream",
          "name": "stdout",
          "text": [
            "primes[3] 7\n",
            "primes[0] 2\n",
            "primes[-1] 13\n"
          ]
        }
      ]
    },
    {
      "cell_type": "code",
      "source": [
        "# lists\n",
        "primes = [2,3,5,7,11,13]\n",
        "primes2 = primes\n",
        "primes[0] = 'bitconnect'\n",
        "print('primes:', primes)\n",
        "print('primes2:', primes2)\n"
      ],
      "metadata": {
        "colab": {
          "base_uri": "https://localhost:8080/"
        },
        "id": "bvnRpj91BE00",
        "outputId": "d0550b71-852c-481c-b3aa-c1cc39bd79c3"
      },
      "execution_count": null,
      "outputs": [
        {
          "output_type": "stream",
          "name": "stdout",
          "text": [
            "primes: ['bitconnect', 3, 5, 7, 11, 13]\n",
            "primes2: ['bitconnect', 3, 5, 7, 11, 13]\n"
          ]
        }
      ]
    },
    {
      "cell_type": "code",
      "source": [
        "# dict\n",
        "# a dict provides very fast lookups based upon the provided key\n",
        "# compare to lists, in which you can only lookup directly by index\n",
        "whats_your_number = {'Raquan':16, 'Michael':3, 'Kevin':11}\n",
        "print('whats_your_number:', whats_your_number)\n",
        "print('whats_your_number[\"Michael\"]:', whats_your_number[\"Michael\"])\n",
        "print('whats_your_number[\"Raquan\"]:', whats_your_number[\"Raquan\"])\n",
        "whats_your_number['Kevin'] = 21\n",
        "print('whats_your_number[\"Kevin\"]:', whats_your_number[\"Kevin\"])\n",
        "\n"
      ],
      "metadata": {
        "colab": {
          "base_uri": "https://localhost:8080/"
        },
        "id": "dRVmXndBBWWJ",
        "outputId": "8a24a6d2-659f-42ce-9644-b6852e12580a"
      },
      "execution_count": null,
      "outputs": [
        {
          "output_type": "stream",
          "name": "stdout",
          "text": [
            "whats_your_number: {'Raquan': 16, 'Michael': 3, 'Kevin': 11}\n",
            "whats_your_number[\"Michael\"]: 3\n",
            "whats_your_number[\"Raquan\"]: 16\n",
            "whats_your_number[\"Kevin\"]: 21\n"
          ]
        }
      ]
    },
    {
      "cell_type": "markdown",
      "source": [
        "# Where to go for a more detailed python crash course?\n",
        "Check out w3schools wonderful site:  \n",
        "[https://www.w3schools.com/python/default.asp](https://www.w3schools.com/python/default.asp)  \n",
        "<img src=\"https://i.imgflip.com/2wram6.png\" width=\"500\">  \n",
        "#### ↑ How you should feel after finishing this crash course.\n"
      ],
      "metadata": {
        "id": "X8BlowA77GtP"
      }
    }
  ]
}