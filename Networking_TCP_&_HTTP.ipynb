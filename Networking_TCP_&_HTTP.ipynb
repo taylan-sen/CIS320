{
  "nbformat": 4,
  "nbformat_minor": 0,
  "metadata": {
    "colab": {
      "name": "Networking - TCP & HTTP.ipynb",
      "provenance": [],
      "collapsed_sections": [],
      "authorship_tag": "ABX9TyMYhnwN5/o61t1gj8d2oZhG",
      "include_colab_link": true
    },
    "kernelspec": {
      "name": "python3",
      "display_name": "Python 3"
    },
    "language_info": {
      "name": "python"
    }
  },
  "cells": [
    {
      "cell_type": "markdown",
      "metadata": {
        "id": "view-in-github",
        "colab_type": "text"
      },
      "source": [
        "<a href=\"https://colab.research.google.com/github/taylan-sen/CIS320/blob/main/Networking_TCP_%26_HTTP.ipynb\" target=\"_parent\"><img src=\"https://colab.research.google.com/assets/colab-badge.svg\" alt=\"Open In Colab\"/></a>"
      ]
    },
    {
      "cell_type": "markdown",
      "source": [
        "###In this notebook, we will go over:\n",
        "  1. how to use python jupyter notebooks as a python coding and sharing environment\n",
        "  1. show how to make a TCP connection\n",
        "  1. use TCP to interact directly with a webserver\n",
        "\n",
        "Please complete the following activities. It will be the first steps to project 2."
      ],
      "metadata": {
        "id": "mDtXgFsARzR2"
      }
    },
    {
      "cell_type": "markdown",
      "source": [
        "### 1. jupyter notebooks\n",
        "**Google colab** is a google's implementation of **jupyter**, a notebook environment for running python and saving the results, along with the ability to document it nicely.\n",
        "\n",
        "Jupyter notebooks have the .ipynb extension. A notebook is made up of vertically stacked **cells**. Cells can be **code** cells, which contain python code, or **text** cells, which contain text written in **markdown**. **Markdown** is like a *light* version of html, it lets you insert some text formatting and links without getting bogged down with too much html tag-like gobbledygook.\n",
        "\n",
        "A colab jupyter notebook is running in its own google-managed VM. In order to run a code cell, click on the *play* button in the top left of the cell. \n",
        "\n",
        "In order to launch your own google colab jupyter notebook, log into your google account in a browser and go to:\n",
        "\n",
        "http://colab.research.google.com\n",
        "\n",
        "The first time you use colab, you may have to *enable it*. After opening your own notebook, try making a code cell to print hello world as shown below:"
      ],
      "metadata": {
        "id": "NPvRifEISOKw"
      }
    },
    {
      "cell_type": "code",
      "source": [
        "print('hello world!')\n",
        "print(5*3 +2)"
      ],
      "metadata": {
        "colab": {
          "base_uri": "https://localhost:8080/"
        },
        "id": "OQGX1p2PTx81",
        "outputId": "add3ce30-914d-4dc9-e913-959f39da0d8f"
      },
      "execution_count": 13,
      "outputs": [
        {
          "output_type": "stream",
          "name": "stdout",
          "text": [
            "hello world!\n",
            "17\n"
          ]
        }
      ]
    },
    {
      "cell_type": "markdown",
      "source": [
        "jupyter notebooks can also be used to send out and receive transport layer packets. In the code below, we send a message to our infamous mothership. Try implementing the following code in a new code cell:"
      ],
      "metadata": {
        "id": "DLzM9c7JT7u_"
      }
    },
    {
      "cell_type": "code",
      "execution_count": 4,
      "metadata": {
        "colab": {
          "base_uri": "https://localhost:8080/"
        },
        "id": "8i0VXrgYI_ka",
        "outputId": "71f54f8e-ced6-4f62-a7d0-b2440b4fc40c"
      },
      "outputs": [
        {
          "output_type": "stream",
          "name": "stdout",
          "text": [
            "\n",
            "\n",
            "             ,-\"\"\"\"\"\"\"-.\n",
            "            / o       o \\ \n",
            "           /   \\     /   \\ \n",
            "          /     )---(     \\ \n",
            "         /     ( 6 6 )     \\ \n",
            "        /       | \" |       \\ \n",
            "       /         )=(         \\ \n",
            "      /   o   .--\"-\"--.   o   \\ \n",
            "     /    I  /  -   -  \\  I    \\ \n",
            " .--(    (_}y/\\       /\\y{_)    )--.\n",
            "(    \".___l\\/__\\_____/__\\/l___,\"    )\n",
            " \\                                 /\n",
            "  \"-._      o O o O o O o      _,-\"\n",
            "      `--Y--.___________.--Y--'\n",
            "         |==.___________.==| \n",
            "         `==.___________.=='\n",
            "\n",
            "MESSAGE RECEIVED... \n",
            "\n",
            "complete\n"
          ]
        }
      ],
      "source": [
        "import socket\n",
        "\n",
        "s = socket.socket(type=socket.SOCK_DGRAM)\n",
        "s.bind(('',12001))\n",
        "s.sendto('hello from colab'.encode(), ('niagaracomputing.org', 12000))\n",
        "rx, addr = s.recvfrom(2048)\n",
        "print(rx.decode())\n",
        "print('complete')"
      ]
    },
    {
      "cell_type": "markdown",
      "source": [
        "Colab notebooks only allow one cell to be running at a time (this was not always the case). Thus, you can't run a listener in one cell and a sender in another. "
      ],
      "metadata": {
        "id": "0xJd6K34Y8wV"
      }
    },
    {
      "cell_type": "markdown",
      "source": [
        "## 2. TCP connections\n",
        "\n",
        "Recall that TCP is a *transport layer* protocol that stands for *transmission control protocol*. Unlike UDP, which sends packets (segments) out without setting up a link, TCP is a *connection-based* protocol. In order to establish a connection, on the server we will use the **listen()** function, and on the client we will use the python **connect(_(host, port)_)** function. Recall that a *host* can be either a domain name, or an IP address. \n",
        "\n",
        "On your VM (not in colab) try creating tcpserver.py and tcpclient.py and sending a message back and forth:"
      ],
      "metadata": {
        "id": "6jSvCxoFUTQe"
      }
    },
    {
      "cell_type": "code",
      "source": [
        "#tcpserver.py\n",
        "# ECHO SERVER\n",
        "import socket\n",
        "\n",
        "with socket.socket(socket.AF_INET, socket.SOCK_STREAM) as s:\n",
        "  # SOCK_STREAM means TCP instead of UDP\n",
        "  s.bind(('', 12000))\n",
        "  s.listen(1)  # listen for 1 connection\n",
        "  print('waiting for a connection')\n",
        "  connection, client_address = s.accept()\n",
        "  print('connection made from', client_address)\n",
        "  while True:\n",
        "    data = connection.recv(1024)\n",
        "    if not data: \n",
        "      break\n",
        "    print('msg received:', data.decode())\n",
        "    print('sending it back')\n",
        "    connection.sendall(data)\n"
      ],
      "metadata": {
        "id": "N6lhMFYNbG1b"
      },
      "execution_count": null,
      "outputs": []
    },
    {
      "cell_type": "code",
      "source": [
        "#tcpclient.py\n",
        "# ECHO CLIENT\n",
        "import socket\n",
        "\n",
        "HOST = 'daring.cwi.nl'    # The remote host\n",
        "PORT = 50007              # The same port as used by the server\n",
        "with socket.socket(socket.AF_INET, socket.SOCK_STREAM) as s:\n",
        "    s.connect((HOST, PORT))\n",
        "    s.sendall(b'Hello, world')\n",
        "    data = s.recv(1024)\n",
        "print('Received', repr(data))"
      ],
      "metadata": {
        "id": "if8yAkHpc07Z"
      },
      "execution_count": null,
      "outputs": []
    },
    {
      "cell_type": "markdown",
      "source": [
        "## 3. HTTP Protocol (HTTP/1.1)##\n",
        "\n",
        "### request messages ###\n",
        "Request messages are sent by a client to a target server. (Note: HTTP/2 and HTTP/3 have a different representation for HTTP methods and headers.)\n",
        "\n",
        "**Request syntax**\n",
        "A client sends ''request messages'' to the server, which consist of: \n",
        "\n",
        "1. a **request line**, consisting of the case-sensitive request method, a space , the requested URL, another space, the protocol version, a *carriage return*, and a *line feed*, e.g.:\n",
        "\n",
        "    <code>GET /index.html HTTP/1.1</code>\n",
        "\n",
        "1. a **HTTP request header field** (at least 1 or more headers in case of HTTP/1.1), each consisting of the case-insensitive field name, a colon, optional leading whitespace, the field value, an optional trailing whitespace and ending with a carriage return and a line feed, e.g.:\n",
        "\n",
        "    <code>Host: www.example.com</code>\n",
        "\n",
        "1. an **empty line**, consisting of a carriage return and a line feed;\n",
        "1. an optional **HTTP message body**\n",
        "\n",
        "\n",
        "In the HTTP/1.1 protocol, all header fields except <code>Host: hostname</code> are optional.\n",
        "\n",
        "\n",
        "In the following code, we use TCP to connect to a webserver directly, and download the html directly. Try substituting in your VM's external IP address and downloading your own web page.\n",
        "\n",
        "The following code has a bug or something missing in the http syntax, we will cover in next class.\n",
        "\n"
      ],
      "metadata": {
        "id": "sj_NDmy8VmGr"
      }
    },
    {
      "cell_type": "code",
      "source": [
        "import socket\n",
        "import time # for delay\n",
        "\n",
        "s = socket.socket(type=socket.SOCK_STREAM)\n",
        "s.connect(('niagaracomputing.org', 80))\n",
        "# THERE IS SOMETHING WRONG IN THE SYNTAX OF THE NEXT LINE\n",
        "s.sendall('GET / HTTP/1.1\\nHOST: niagaracomputing.org\\n\\n'.encode())\n",
        "time.sleep(1)\n",
        "msg = s.recv(2048)\n",
        "print(msg.decode())\n",
        "print('complete')\n",
        "s.close()"
      ],
      "metadata": {
        "id": "YpHL0bZ0JwvM"
      },
      "execution_count": null,
      "outputs": []
    }
  ]
}