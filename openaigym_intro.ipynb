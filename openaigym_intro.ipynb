{
  "nbformat": 4,
  "nbformat_minor": 0,
  "metadata": {
    "colab": {
      "name": "openaigym_intro",
      "provenance": [],
      "collapsed_sections": [],
      "authorship_tag": "ABX9TyOtQXJU4Km17+rqJWyeggvl",
      "include_colab_link": true
    },
    "kernelspec": {
      "name": "python3",
      "display_name": "Python 3"
    },
    "language_info": {
      "name": "python"
    }
  },
  "cells": [
    {
      "cell_type": "markdown",
      "metadata": {
        "id": "view-in-github",
        "colab_type": "text"
      },
      "source": [
        "<a href=\"https://colab.research.google.com/github/taylan-sen/CIS320/blob/main/openaigym_intro.ipynb\" target=\"_parent\"><img src=\"https://colab.research.google.com/assets/colab-badge.svg\" alt=\"Open In Colab\"/></a>"
      ]
    },
    {
      "cell_type": "markdown",
      "source": [
        "*Attribution:* Major elements of this notebook are based on the work of [Jeff Heaton](https://sites.wustl.edu/jeffheaton/) and the openaigym documentation site (https://gym.openai.com).\n",
        "\n",
        "**state space**  \n",
        "**observation space**  \n",
        "**action space**  \n",
        "\n",
        "**agent** - A program that generates an action based on its internal state and observation."
      ],
      "metadata": {
        "id": "ncGUy0G9lrPv"
      }
    },
    {
      "cell_type": "code",
      "execution_count": null,
      "metadata": {
        "id": "Uz25m4F-lly_"
      },
      "outputs": [],
      "source": [
        "#\n",
        "# This statement pulls in the code (functions, variables, api) for the gym environment\n",
        "import gym  \n",
        "\n",
        "env_name = 'MountainCar-v0'\n",
        "env = gym.make(env_name)\n",
        "print('Action Space:', env.action_space)\n",
        "print('Observation Space:', env.observation_space)\n"
      ]
    },
    {
      "cell_type": "code",
      "source": [
        "help(env.action_space.sample)\n",
        "help(env.step)\n",
        "help(env.render)"
      ],
      "metadata": {
        "id": "LsD8mTAwsKO4"
      },
      "execution_count": null,
      "outputs": []
    },
    {
      "cell_type": "code",
      "source": [
        "env.action_space.sample()"
      ],
      "metadata": {
        "id": "O49IdMucsadK"
      },
      "execution_count": null,
      "outputs": []
    },
    {
      "cell_type": "code",
      "source": [
        "# install code to allow playable videos to be created\n",
        "!pip install gym pyvirtualdisplay > /dev/null 2>&1\n",
        "!apt-get install -y xvfb python-opengl ffmpeg > /dev/null 2>&1"
      ],
      "metadata": {
        "id": "CuHe7CrSo5Hg"
      },
      "execution_count": null,
      "outputs": []
    },
    {
      "cell_type": "code",
      "source": [
        "# install some helper functions to allow playing render videos in colab\n",
        "import gym\n",
        "from gym.wrappers import Monitor\n",
        "import glob\n",
        "import io\n",
        "import base64\n",
        "from IPython.display import HTML\n",
        "from pyvirtualdisplay import Display\n",
        "from IPython import display as ipythondisplay\n",
        "\n",
        "display = Display(visible=0, size=(1400, 900))\n",
        "display.start()\n",
        "\n",
        "\"\"\"\n",
        "Utility functions to enable video recording of gym environment \n",
        "and displaying it.\n",
        "To enable video, just do \"env = wrap_env(env)\"\"\n",
        "\"\"\"\n",
        "\n",
        "def show_video():\n",
        "  mp4list = glob.glob('video/*.mp4')\n",
        "  if len(mp4list) > 0:\n",
        "    mp4 = mp4list[0]\n",
        "    video = io.open(mp4, 'r+b').read()\n",
        "    encoded = base64.b64encode(video)\n",
        "    ipythondisplay.display(HTML(data='''<video alt=\"test\" autoplay \n",
        "                loop controls style=\"height: 400px;\">\n",
        "                <source src=\"data:video/mp4;base64,{0}\" type=\"video/mp4\" />\n",
        "             </video>'''.format(encoded.decode('ascii'))))\n",
        "  else: \n",
        "    print(\"Could not find video\")\n",
        "    \n",
        "\n",
        "def wrap_env(env):\n",
        "  env = Monitor(env, './video', force=True)\n",
        "  return env"
      ],
      "metadata": {
        "id": "a18HbUj1rveM"
      },
      "execution_count": null,
      "outputs": []
    },
    {
      "cell_type": "code",
      "source": [
        "env = wrap_env(gym.make(\"MountainCar-v0\"))\n",
        "#env = wrap_env(gym.make(\"Atlantis-v0\"))\n",
        "\n",
        "observation = env.reset()\n",
        "\n",
        "step_i = 0\n",
        "while True:\n",
        "    \n",
        "    env.render()\n",
        "    \n",
        "    #your agent goes here\n",
        "    action = 1\n",
        "    observation, reward, done, info = env.step(action) \n",
        "         \n",
        "    if done: \n",
        "      break;\n",
        "\n",
        "print('------------------------\\nDONE')\n",
        "print(observation)\n",
        "\n",
        "env.close()\n",
        "show_video()\n"
      ],
      "metadata": {
        "id": "wqBIzit6r08l"
      },
      "execution_count": null,
      "outputs": []
    },
    {
      "cell_type": "code",
      "source": [
        ""
      ],
      "metadata": {
        "id": "Hy6xe6Yhudr2"
      },
      "execution_count": null,
      "outputs": []
    }
  ]
}